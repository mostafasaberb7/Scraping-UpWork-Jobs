{
 "cells": [
  {
   "cell_type": "code",
   "execution_count": null,
   "metadata": {},
   "outputs": [],
   "source": [
    "##import libraries\n",
    "\n",
    "from selenium import webdriver\n",
    "from selenium.webdriver.common.by import By\n",
    "from selenium.webdriver.chrome.options import Options\n",
    "import csv\n",
    "\n",
    "chrome_options = Options()\n",
    "\n",
    "# Set headers\n",
    "chrome_options.add_argument(\"Mozilla/5.0 (Macintosh; Intel Mac OS X 10.14; rv:66.0) Gecko/20100101 Firefox/66.0\")\n",
    "\n",
    "# open file and push data into file.csv\n",
    "with open(\"UpWork_JOBS.csv\",\"w\",newline=\"\",encoding=\"utf-8\") as file:\n",
    "    writer = csv.writer(file)\n",
    "    writer.writerow([\"job_name\",\"job_date\",\"job_skill\",\"job_key\"])\n",
    "\n",
    "    job_key = [\"CSS Developer\",\"C# Developers & Programmer\",\"C++ Programmers & Developer\",\"Data Analyst\",\"DevOps Engineer\",\"Docker Specialist\",\"Front-End Developer\",\"iOS Developer\",\"PHP Developer\",\"Python Developer\",\"SQL Developer\"]\n",
    "\n",
    "\n",
    "    for job in job_key:\n",
    "\n",
    "        page = 1\n",
    "        running = True\n",
    "        while running:\n",
    "            \n",
    "            # Create a WebDriver instance with the Chrome options\n",
    "            driver = webdriver.Chrome(options=chrome_options)\n",
    "            \n",
    "            #send request\n",
    "            driver.get(f'https://www.upwork.com/nx/search/jobs/?page={page}&per_page=50&q={job}%20Engineer&sort=recency')\n",
    "            for row in range(1,51):\n",
    "                try:\n",
    "                    job_name = driver.find_element(By.XPATH,f'/html/body/div[3]/div/div/div/main/div/div/div/div[2]/div[2]/section/article[{row}]/div[1]/div[1]/div/div/h2/a').text.strip()\n",
    "                except:\n",
    "                    running = False\n",
    "                try:\n",
    "                    job_date = driver.find_element(By.XPATH,f'//*[@id=\"main\"]/div/div/div/div[2]/div[2]/section/article[{row}]/div[1]/div[1]/small').text.strip()\n",
    "                except:\n",
    "                   job_date = None \n",
    "                try:\n",
    "                    job_skill = driver.find_element(By.XPATH,f'//*[@id=\"main\"]/div/div/div/div[2]/div[2]/section/article[{row}]/div[2]/div[2]').text.strip().replace('\\n',\",\")\n",
    "                except:\n",
    "                    job_skill = None\n",
    "                row = [job_name,job_date,job_skill,job]\n",
    "                writer.writerow(row)\n",
    "                print(row)\n",
    "            page+=1\n",
    "driver.quit()"
   ]
  }
 ],
 "metadata": {
  "language_info": {
   "name": "python"
  }
 },
 "nbformat": 4,
 "nbformat_minor": 2
}
